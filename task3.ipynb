{
  "nbformat": 4,
  "nbformat_minor": 0,
  "metadata": {
    "colab": {
      "name": "task3.ipynb",
      "provenance": [],
      "private_outputs": true,
      "authorship_tag": "ABX9TyNy22/bgUxuwWh1bT/Gj17I",
      "include_colab_link": true
    },
    "kernelspec": {
      "name": "python3",
      "display_name": "Python 3"
    }
  },
  "cells": [
    {
      "cell_type": "markdown",
      "metadata": {
        "id": "view-in-github",
        "colab_type": "text"
      },
      "source": [
        "<a href=\"https://colab.research.google.com/github/TaifQureshi/sparks_foundation/blob/master/task3.ipynb\" target=\"_parent\"><img src=\"https://colab.research.google.com/assets/colab-badge.svg\" alt=\"Open In Colab\"/></a>"
      ]
    },
    {
      "cell_type": "markdown",
      "metadata": {
        "id": "haxTdWHiMnaK",
        "colab_type": "text"
      },
      "source": [
        "# **Importing all libraries**"
      ]
    },
    {
      "cell_type": "code",
      "metadata": {
        "id": "HxwC-OxCSKxw",
        "colab_type": "code",
        "colab": {}
      },
      "source": [
        "import numpy as np\n",
        "import pandas as pd\n",
        "import seaborn as sns\n",
        "import matplotlib.pyplot as plt\n",
        "from sklearn import datasets\n",
        "from sklearn.cluster import  KMeans\n",
        "from sklearn.preprocessing import LabelEncoder"
      ],
      "execution_count": null,
      "outputs": []
    },
    {
      "cell_type": "markdown",
      "metadata": {
        "id": "pUXHCCjeMtbs",
        "colab_type": "text"
      },
      "source": [
        "# **Read data**"
      ]
    },
    {
      "cell_type": "code",
      "metadata": {
        "id": "Qh0qx5UPMxtp",
        "colab_type": "code",
        "colab": {}
      },
      "source": [
        "data = datasets.load_iris()\n",
        "df = pd.DataFrame(data.data, columns = data.feature_names)\n",
        "df['Species'] = data.target\n",
        "df.head()"
      ],
      "execution_count": null,
      "outputs": []
    },
    {
      "cell_type": "markdown",
      "metadata": {
        "id": "THeas4RKNTOX",
        "colab_type": "text"
      },
      "source": [
        "# **Data Analysis**"
      ]
    },
    {
      "cell_type": "code",
      "metadata": {
        "id": "CrDo8k1TNgyK",
        "colab_type": "code",
        "colab": {}
      },
      "source": [
        "df.info()"
      ],
      "execution_count": null,
      "outputs": []
    },
    {
      "cell_type": "code",
      "metadata": {
        "id": "TVKLy9gnOEHx",
        "colab_type": "code",
        "colab": {}
      },
      "source": [
        "df.describe()"
      ],
      "execution_count": null,
      "outputs": []
    },
    {
      "cell_type": "code",
      "metadata": {
        "id": "_PK0CctzOJMH",
        "colab_type": "code",
        "colab": {}
      },
      "source": [
        "df.isnull().sum()"
      ],
      "execution_count": null,
      "outputs": []
    },
    {
      "cell_type": "code",
      "metadata": {
        "id": "B_mjOH24OOu_",
        "colab_type": "code",
        "colab": {}
      },
      "source": [
        "df.drop_duplicates(inplace=True)"
      ],
      "execution_count": null,
      "outputs": []
    },
    {
      "cell_type": "markdown",
      "metadata": {
        "id": "IA92S8szOhk9",
        "colab_type": "text"
      },
      "source": [
        "# **Lable encoding**"
      ]
    },
    {
      "cell_type": "code",
      "metadata": {
        "id": "MkDX-oEnOoY3",
        "colab_type": "code",
        "colab": {}
      },
      "source": [
        "lable = LabelEncoder()\n",
        "df['Species'] = lable.fit_transform(df['Species'])\n",
        "\n",
        "df.Species.value_counts()"
      ],
      "execution_count": null,
      "outputs": []
    },
    {
      "cell_type": "markdown",
      "metadata": {
        "id": "b0TcOKYLRGTX",
        "colab_type": "text"
      },
      "source": [
        "# **PetLengthCM vs PetalWidthCM**"
      ]
    },
    {
      "cell_type": "code",
      "metadata": {
        "id": "gRVx22ZKRElN",
        "colab_type": "code",
        "colab": {}
      },
      "source": [
        "plt.scatter(df['petal length (cm)'],df['petal width (cm)'],c=df.Species.values)"
      ],
      "execution_count": null,
      "outputs": []
    },
    {
      "cell_type": "code",
      "metadata": {
        "id": "yDtrr05tSgiG",
        "colab_type": "code",
        "colab": {}
      },
      "source": [
        "df.corr()"
      ],
      "execution_count": null,
      "outputs": []
    },
    {
      "cell_type": "markdown",
      "metadata": {
        "id": "HosUKTf3SoQj",
        "colab_type": "text"
      },
      "source": [
        "# **Data Visuallization**"
      ]
    },
    {
      "cell_type": "code",
      "metadata": {
        "id": "O-2-0v5LSnig",
        "colab_type": "code",
        "colab": {}
      },
      "source": [
        "fig = plt.figure(figsize=(15,10))\n",
        "sns.heatmap(df.corr(),linewidths=1,annot=True)"
      ],
      "execution_count": null,
      "outputs": []
    },
    {
      "cell_type": "code",
      "metadata": {
        "id": "Qc43FtIKTSWF",
        "colab_type": "code",
        "colab": {}
      },
      "source": [
        "sns.pairplot(df)"
      ],
      "execution_count": null,
      "outputs": []
    },
    {
      "cell_type": "markdown",
      "metadata": {
        "id": "uGpcAo3lUR8Z",
        "colab_type": "text"
      },
      "source": [
        "# **Using Elbow Method**"
      ]
    },
    {
      "cell_type": "code",
      "metadata": {
        "id": "ahQR6wDIU1hg",
        "colab_type": "code",
        "colab": {}
      },
      "source": [
        "x = df.iloc[:, [0, 1, 2, 3]].values\n",
        "\n",
        "wcss = []\n",
        "\n",
        "for i in range(1, 11):\n",
        "    kmeans = KMeans(n_clusters = i, init = 'k-means++', \n",
        "                    max_iter = 300, n_init = 10, random_state = 0)\n",
        "    kmeans.fit(x)\n",
        "    wcss.append(kmeans.inertia_)"
      ],
      "execution_count": null,
      "outputs": []
    },
    {
      "cell_type": "code",
      "metadata": {
        "id": "fcHoc64WVX9h",
        "colab_type": "code",
        "colab": {}
      },
      "source": [
        "#finding optimum number\n",
        "fig = plt.figure(figsize=(15,10))\n",
        "sns.set(style='whitegrid')\n",
        "sns.lineplot(range(1,11),wcss,markers='o')\n",
        "plt.title('The Elbow Method')\n",
        "plt.xlabel('Number of cluster')\n",
        "plt.ylabel('WCSS')\n",
        "plt.show()"
      ],
      "execution_count": null,
      "outputs": []
    },
    {
      "cell_type": "markdown",
      "metadata": {
        "id": "uzNBupaKWurd",
        "colab_type": "text"
      },
      "source": [
        "# **KMean**"
      ]
    },
    {
      "cell_type": "code",
      "metadata": {
        "id": "3vAa7ct_VgPK",
        "colab_type": "code",
        "colab": {}
      },
      "source": [
        "kmeans = KMeans(n_clusters=3,random_state=5)\n",
        "y_kmeans = kmeans.fit_predict(x)"
      ],
      "execution_count": null,
      "outputs": []
    },
    {
      "cell_type": "markdown",
      "metadata": {
        "id": "fFonMcrsXYir",
        "colab_type": "text"
      },
      "source": [
        "# **Visualization the Clusters**"
      ]
    },
    {
      "cell_type": "code",
      "metadata": {
        "id": "V7xZjnwHXX3H",
        "colab_type": "code",
        "colab": {}
      },
      "source": [
        "# Visualising the clusters - On the first two columns\n",
        "plt.figure(figsize=(10,7))\n",
        "plt.scatter(x[y_kmeans == 0, 0], x[y_kmeans == 0, 1], \n",
        "            s = 100, c = 'red', label = 'Iris-setosa')\n",
        "plt.scatter(x[y_kmeans == 1, 0], x[y_kmeans == 1, 1], \n",
        "            s = 100, c = 'blue', label = 'Iris-versicolour')\n",
        "plt.scatter(x[y_kmeans == 2, 0], x[y_kmeans == 2, 1],\n",
        "            s = 100, c = 'green', label = 'Iris-virginica')\n",
        "\n",
        "# Plotting the centroids of the clusters\n",
        "plt.scatter(kmeans.cluster_centers_[:, 0], kmeans.cluster_centers_[:,1], \n",
        "            s = 100, c = 'yellow', label = 'Centroids')\n",
        "\n",
        "plt.legend()"
      ],
      "execution_count": null,
      "outputs": []
    }
  ]
}