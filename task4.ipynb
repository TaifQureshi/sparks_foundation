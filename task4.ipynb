{
  "nbformat": 4,
  "nbformat_minor": 0,
  "metadata": {
    "colab": {
      "name": "task4.ipynb",
      "provenance": [],
      "private_outputs": true,
      "collapsed_sections": [],
      "authorship_tag": "ABX9TyO52NmAR0urWwA86Oy0SPoy",
      "include_colab_link": true
    },
    "kernelspec": {
      "name": "python3",
      "display_name": "Python 3"
    }
  },
  "cells": [
    {
      "cell_type": "markdown",
      "metadata": {
        "id": "view-in-github",
        "colab_type": "text"
      },
      "source": [
        "<a href=\"https://colab.research.google.com/github/TaifQureshi/sparks_foundation/blob/master/task4.ipynb\" target=\"_parent\"><img src=\"https://colab.research.google.com/assets/colab-badge.svg\" alt=\"Open In Colab\"/></a>"
      ]
    },
    {
      "cell_type": "markdown",
      "metadata": {
        "id": "YahTympNkvrb",
        "colab_type": "text"
      },
      "source": [
        "# **Importing Libraries**"
      ]
    },
    {
      "cell_type": "code",
      "metadata": {
        "id": "-lkLQ9VzkrTg",
        "colab_type": "code",
        "colab": {}
      },
      "source": [
        "import numpy as np\n",
        "import pandas as pd\n",
        "import matplotlib.pyplot as plt\n",
        "from sklearn.tree import DecisionTreeClassifier\n",
        "from sklearn import  datasets\n",
        "from sklearn import  tree\n",
        "from sklearn.model_selection import  train_test_split\n",
        "from sklearn.preprocessing import LabelEncoder\n",
        "from sklearn.metrics import accuracy_score,confusion_matrix"
      ],
      "execution_count": null,
      "outputs": []
    },
    {
      "cell_type": "markdown",
      "metadata": {
        "id": "bX4MFLe5ldeh",
        "colab_type": "text"
      },
      "source": [
        "# **Loading Data**"
      ]
    },
    {
      "cell_type": "code",
      "metadata": {
        "id": "At2o3wnjlgSe",
        "colab_type": "code",
        "colab": {}
      },
      "source": [
        "irs = datasets.load_iris()\n",
        "df = pd.DataFrame(irs.data,columns=irs.feature_names)"
      ],
      "execution_count": null,
      "outputs": []
    },
    {
      "cell_type": "code",
      "metadata": {
        "id": "1IKlVB_ql7Gk",
        "colab_type": "code",
        "colab": {}
      },
      "source": [
        "target = irs.target\n",
        "df['species'] = target\n",
        "df['species'] = df['species'].map({0:'setosa',1:'versicolor',2:'virginca'})\n",
        "df"
      ],
      "execution_count": null,
      "outputs": []
    },
    {
      "cell_type": "markdown",
      "metadata": {
        "id": "vYqBhM16mywK",
        "colab_type": "text"
      },
      "source": [
        "# **Lable Encoding**"
      ]
    },
    {
      "cell_type": "code",
      "metadata": {
        "id": "GZdWk7x5m3uE",
        "colab_type": "code",
        "colab": {}
      },
      "source": [
        "le = LabelEncoder()\n",
        "df['species'] = le.fit_transform(df['species'])"
      ],
      "execution_count": null,
      "outputs": []
    },
    {
      "cell_type": "markdown",
      "metadata": {
        "id": "twn-ssptnQjU",
        "colab_type": "text"
      },
      "source": [
        "# **Train Test split**"
      ]
    },
    {
      "cell_type": "code",
      "metadata": {
        "id": "tZGYK5benyIm",
        "colab_type": "code",
        "colab": {}
      },
      "source": [
        "x = df.iloc[:,1:4]\n",
        "y = df.iloc[:,-1:]"
      ],
      "execution_count": null,
      "outputs": []
    },
    {
      "cell_type": "code",
      "metadata": {
        "id": "T5jdDLKtnWDk",
        "colab_type": "code",
        "colab": {}
      },
      "source": [
        "x_train,x_test,y_train,y_test = train_test_split(x,y,test_size=0.2,random_state=101)"
      ],
      "execution_count": null,
      "outputs": []
    },
    {
      "cell_type": "markdown",
      "metadata": {
        "id": "P-MEldHwn1iG",
        "colab_type": "text"
      },
      "source": [
        "# **Decision Tree**"
      ]
    },
    {
      "cell_type": "code",
      "metadata": {
        "id": "fpXsjclan5ia",
        "colab_type": "code",
        "colab": {}
      },
      "source": [
        "d_tree = DecisionTreeClassifier()\n",
        "\n",
        "d_tree.fit(x_train,y_train)"
      ],
      "execution_count": null,
      "outputs": []
    },
    {
      "cell_type": "markdown",
      "metadata": {
        "id": "wPm1cdw6oRjy",
        "colab_type": "text"
      },
      "source": [
        "# **Evalutation**"
      ]
    },
    {
      "cell_type": "code",
      "metadata": {
        "id": "CFs1NfHmoVBp",
        "colab_type": "code",
        "colab": {}
      },
      "source": [
        "y_pre = d_tree.predict(x_test)\n",
        "\n",
        "confusion_matrix(y_test,y_pre)"
      ],
      "execution_count": null,
      "outputs": []
    },
    {
      "cell_type": "code",
      "metadata": {
        "id": "GcCt1UDAow1l",
        "colab_type": "code",
        "colab": {}
      },
      "source": [
        "accuracy_score(y_test,y_pre)"
      ],
      "execution_count": null,
      "outputs": []
    },
    {
      "cell_type": "markdown",
      "metadata": {
        "id": "Ejmm7XdIo4N1",
        "colab_type": "text"
      },
      "source": [
        "# **Plotting**"
      ]
    },
    {
      "cell_type": "code",
      "metadata": {
        "id": "NpVNEBIvo7fa",
        "colab_type": "code",
        "colab": {}
      },
      "source": [
        "plt.figure(figsize=(16,10))\n",
        "tree.plot_tree(d_tree,filled=True)\n",
        "plt.title(\"Decision Tree\")"
      ],
      "execution_count": null,
      "outputs": []
    }
  ]
}